{
 "cells": [
  {
   "cell_type": "code",
   "execution_count": 10,
   "id": "c65daa60",
   "metadata": {},
   "outputs": [
    {
     "name": "stdout",
     "output_type": "stream",
     "text": [
      "5.206896551724138\n"
     ]
    }
   ],
   "source": [
    "#Questão 1\n",
    "\n",
    "resultado = (5*(10-4)**2)/((3**3)+2)-1\n",
    "print(resultado)"
   ]
  },
  {
   "cell_type": "code",
   "execution_count": null,
   "id": "ea6b5a28",
   "metadata": {},
   "outputs": [
    {
     "name": "stdout",
     "output_type": "stream",
     "text": [
      "10.0\n"
     ]
    }
   ],
   "source": [
    "#Questão 2\n",
    "#(2,3)(8,11)\n",
    "x1 = 2\n",
    "x2 = 8\n",
    "y1 = 3\n",
    "y2 = 11\n",
    "\n",
    "resultado = ((x2-x1)**2 + (y2-y1)**2)**0.5\n",
    "print(resultado)"
   ]
  },
  {
   "cell_type": "code",
   "execution_count": 12,
   "id": "4a9a80ba",
   "metadata": {},
   "outputs": [
    {
     "name": "stdout",
     "output_type": "stream",
     "text": [
      "7.55\n"
     ]
    }
   ],
   "source": [
    "#Questão 3\n",
    "n1 = 7\n",
    "n2 = 8.5\n",
    "n3 = 6\n",
    "p1 = 3\n",
    "p2 = 5 \n",
    "p3 = 2\n",
    "\n",
    "media = (n1*p1+n2*p2+n3*p3)/(p1+p2+p3)\n",
    "print(media)"
   ]
  }
 ],
 "metadata": {
  "kernelspec": {
   "display_name": "Python 3",
   "language": "python",
   "name": "python3"
  },
  "language_info": {
   "codemirror_mode": {
    "name": "ipython",
    "version": 3
   },
   "file_extension": ".py",
   "mimetype": "text/x-python",
   "name": "python",
   "nbconvert_exporter": "python",
   "pygments_lexer": "ipython3",
   "version": "3.13.5"
  }
 },
 "nbformat": 4,
 "nbformat_minor": 5
}
